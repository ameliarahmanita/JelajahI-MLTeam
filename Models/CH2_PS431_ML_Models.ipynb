{
  "cells": [
    {
      "cell_type": "markdown",
      "metadata": {
        "id": "MlHDat2uWa5c"
      },
      "source": [
        "# Jelajahi: Cultural Travel Recommender Application ML Models"
      ]
    },
    {
      "cell_type": "markdown",
      "metadata": {
        "id": "wdTyqgGwXl73"
      },
      "source": [
        "Welcome to **JelajahI**, your passport to an immersive cultural journey across Indonesia. Powered by TensorFlow, Keras, and a robust CNN with dense layers, our app revolutionizes cultural travel. Capture the essence of your surroundings through photos, and let JelajahI's advanced image recognition craft personalized recommendations for regional destinations. Dive into detailed cultural insights and curated recommendations for each area, all at your fingertips. Join our community, share your stories, and contribute to a global exchange of knowledge. JelajahI—where every photo opens a portal to Indonesia's cultural wonders, all made possible with cutting-edge technology and the seamless integration of TensorFlow.js (TFJS). Explore, connect, and let JelajahI redefine your cultural travel experience."
      ]
    },
    {
      "cell_type": "markdown",
      "metadata": {
        "id": "cWEUF2eRacb8"
      },
      "source": [
        "## 1. Importing Necessary Libraries for Machine Learning\n",
        "In this section, essential libraries for machine learning tasks are imported. These include libraries for file operations, numerical operations, plotting, image processing, and model development using TensorFlow and Keras. The code block also checks the TensorFlow version and GPU availability.\n",
        "\n"
      ]
    },
    {
      "cell_type": "code",
      "execution_count": 1,
      "metadata": {
        "colab": {
          "base_uri": "https://localhost:8080/"
        },
        "id": "azThh0QGdZSU",
        "outputId": "02c581cc-912a-46d7-bd67-d2970c693a78"
      },
      "outputs": [
        {
          "output_type": "stream",
          "name": "stdout",
          "text": [
            "• Using TensorFlow Version: 2.15.0\n",
            "• GPU Device Not Found. Running on CPU\n"
          ]
        }
      ],
      "source": [
        "# Import necessary libraries for file and path operations\n",
        "import os\n",
        "import pathlib\n",
        "\n",
        "# Import libraries for numerical operations and data manipulation\n",
        "import numpy as np\n",
        "import pandas as pd\n",
        "\n",
        "# Import libraries for plotting\n",
        "import matplotlib.pyplot as plt\n",
        "\n",
        "# Import Google Colab specific libraries\n",
        "from google.colab import auth, files\n",
        "\n",
        "# Import TensorFlow and related modules\n",
        "import tensorflow as tf\n",
        "from tensorflow.keras import layers, models\n",
        "from tensorflow.keras.preprocessing.image import ImageDataGenerator\n",
        "from tensorflow.keras.optimizers import Adam\n",
        "from tensorflow.keras.callbacks import EarlyStopping, LearningRateScheduler\n",
        "from tensorflow.keras.preprocessing import image\n",
        "from tensorflow.keras.applications.mobilenet_v2 import preprocess_input\n",
        "from tensorflow.keras.models import load_model\n",
        "\n",
        "# Import TensorFlow.js for model conversion\n",
        "import tensorflowjs as tfjs\n",
        "\n",
        "# Import Google Sheets and related libraries\n",
        "import gspread\n",
        "from google.auth import default\n",
        "\n",
        "# Display TensorFlow version and GPU availability information\n",
        "print('\\u2022 Using TensorFlow Version:', tf.__version__)\n",
        "\n",
        "gpus = tf.config.list_physical_devices('GPU')\n",
        "if gpus:\n",
        "    print('\\u2022 GPU Device Found.')\n",
        "else:\n",
        "    print('\\u2022 GPU Device Not Found. Running on CPU')"
      ]
    },
    {
      "cell_type": "markdown",
      "metadata": {
        "id": "HE2HDQ4aXZNs"
      },
      "source": [
        "## 2. Cloning and Navigating the Dataset Repository\n",
        "This section involves cloning a GitHub repository containing the batik dataset and navigating to the relevant directory. The **ls** command is used to list the contents of the dataset directory, providing an overview of available files and subdirectories."
      ]
    },
    {
      "cell_type": "code",
      "execution_count": 2,
      "metadata": {
        "id": "kQtEfwIzWBcX",
        "colab": {
          "base_uri": "https://localhost:8080/"
        },
        "outputId": "6c45ec1d-79ca-44ad-d626-e1cf1524a7b7"
      },
      "outputs": [
        {
          "output_type": "stream",
          "name": "stdout",
          "text": [
            "Cloning into 'JelajahI-MLTeam'...\n",
            "remote: Enumerating objects: 3687, done.\u001b[K\n",
            "remote: Counting objects: 100% (18/18), done.\u001b[K\n",
            "remote: Compressing objects: 100% (18/18), done.\u001b[K\n",
            "remote: Total 3687 (delta 5), reused 0 (delta 0), pack-reused 3669\u001b[K\n",
            "Receiving objects: 100% (3687/3687), 371.94 MiB | 13.71 MiB/s, done.\n",
            "Resolving deltas: 100% (15/15), done.\n",
            "Updating files: 100% (3260/3260), done.\n"
          ]
        }
      ],
      "source": [
        "# Clone the GitHub repository containing the dataset\n",
        "!git clone https://github.com/ameliarahmanita/JelajahI-MLTeam.git"
      ]
    },
    {
      "cell_type": "code",
      "execution_count": 3,
      "metadata": {
        "id": "mtgXc0nEWMER",
        "colab": {
          "base_uri": "https://localhost:8080/"
        },
        "outputId": "48390261-efcb-427d-d796-3dc2905dbfad"
      },
      "outputs": [
        {
          "output_type": "stream",
          "name": "stdout",
          "text": [
            "/content/JelajahI-MLTeam/Dataset\n"
          ]
        }
      ],
      "source": [
        "# Navigate to the Dataset directory\n",
        "%cd JelajahI-MLTeam/Dataset"
      ]
    },
    {
      "cell_type": "code",
      "execution_count": 4,
      "metadata": {
        "id": "o0qMluDQWRaR",
        "colab": {
          "base_uri": "https://localhost:8080/"
        },
        "outputId": "af029010-05ed-476e-90d9-6da15bb8518c"
      },
      "outputs": [
        {
          "output_type": "stream",
          "name": "stdout",
          "text": [
            "'Batik Lasem'\t'Batik Pati'\t    'Batik Sekar Jagad'  'Batik Sogan'\n",
            "'Batik Parang'\t'Batik Pekalongan'  'Batik Sidoluhur'\t 'Batik Truntum'\n"
          ]
        }
      ],
      "source": [
        "# List the contents of the Dataset directory\n",
        "!ls"
      ]
    },
    {
      "cell_type": "markdown",
      "metadata": {
        "id": "qKYgFH44XvaY"
      },
      "source": [
        "## 3. Data Preprocessing and Augmentation for Batik Image Classification\n",
        "Here, data preprocessing and augmentation techniques are applied to prepare the batik dataset for image classification. ImageDataGenerator is used to perform operations such as rotation, shifting, zooming, and flipping on both the training and validation sets. The generator functions are then configured to load and augment the dataset during model training."
      ]
    },
    {
      "cell_type": "code",
      "execution_count": 5,
      "metadata": {
        "id": "Jegg9BgVXgiq"
      },
      "outputs": [],
      "source": [
        "# Specify the directory containing the batik dataset\n",
        "training_directory = \"/content/JelajahI-MLTeam/Dataset\""
      ]
    },
    {
      "cell_type": "code",
      "execution_count": 6,
      "metadata": {
        "id": "D1DE44uSXv9F"
      },
      "outputs": [],
      "source": [
        "# Configure data augmentation for training and validation sets\n",
        "training_datagen = ImageDataGenerator(rescale=1./255.,\n",
        "                                      rotation_range=20,\n",
        "                                      width_shift_range=0.1,\n",
        "                                      height_shift_range=0.1,\n",
        "                                      shear_range=0.2,\n",
        "                                      zoom_range=0.2,\n",
        "                                      horizontal_flip=True,\n",
        "                                      vertical_flip=True,\n",
        "                                      fill_mode='nearest',\n",
        "                                      validation_split=0.1)\n",
        "\n",
        "val_datagen = ImageDataGenerator(rescale=1./255., validation_split=0.1)"
      ]
    },
    {
      "cell_type": "code",
      "execution_count": 7,
      "metadata": {
        "id": "yMDNYVelX7ru",
        "colab": {
          "base_uri": "https://localhost:8080/"
        },
        "outputId": "96021023-aa04-4265-b931-2e5b5f9cca0d"
      },
      "outputs": [
        {
          "output_type": "stream",
          "name": "stdout",
          "text": [
            "Found 2935 images belonging to 8 classes.\n",
            "Found 324 images belonging to 8 classes.\n"
          ]
        }
      ],
      "source": [
        "# Load and prepare the batik dataset for training\n",
        "train_generator = training_datagen.flow_from_directory(directory=training_directory,\n",
        "                                                       batch_size=32,\n",
        "                                                       class_mode='categorical',\n",
        "                                                       target_size=(224, 224),\n",
        "                                                       subset='training')\n",
        "\n",
        "val_generator = val_datagen.flow_from_directory(directory=training_directory,\n",
        "                                               batch_size=32,\n",
        "                                                class_mode='categorical',\n",
        "                                                target_size=(224, 224),\n",
        "                                                subset='validation')"
      ]
    },
    {
      "cell_type": "markdown",
      "metadata": {
        "id": "lVv_fWBcX1If"
      },
      "source": [
        "## 4. Building Model for Batik Image Classification\n",
        "This section involves constructing a deep learning model for batik image classification using transfer learning. The MobileNetV2 architecture is used as the base model, and custom layers are added to create the final model. The model is then compiled with specific configurations, including the Adam optimizer, categorical crossentropy loss, and accuracy metric. The learning rate is scheduled, and the model is trained on the prepared dataset."
      ]
    },
    {
      "cell_type": "code",
      "execution_count": 8,
      "metadata": {
        "id": "vGw416IZYhW4"
      },
      "outputs": [],
      "source": [
        "# Create an EarlyStopping callback\n",
        "early_stopping = EarlyStopping(monitor='val_accuracy', patience=25, restore_best_weights=True)"
      ]
    },
    {
      "cell_type": "code",
      "source": [
        "# Build the model using transfer learning with MobileNetV2 as the base model\n",
        "base_model = tf.keras.applications.MobileNetV2(input_shape=(224, 224, 3),\n",
        "                                               include_top=False,\n",
        "                                               weights='imagenet')\n",
        "\n",
        "# Freeze the layers of the base model to retain pre-trained weights\n",
        "for layer in base_model.layers:\n",
        "    layer.trainable = False\n",
        "\n",
        "# Construct the final model by adding custom layers on top of the base model\n",
        "model = models.Sequential([\n",
        "    base_model,\n",
        "    layers.GlobalAveragePooling2D(),\n",
        "    layers.Dense(256, activation='relu'),\n",
        "    layers.Dropout(0.3),  # Adjust dropout rate if needed\n",
        "    layers.Dense(8, activation='softmax')\n",
        "])\n",
        "\n",
        "# Display the model summary\n",
        "model.summary()"
      ],
      "metadata": {
        "id": "4m9IwPChBoXX",
        "colab": {
          "base_uri": "https://localhost:8080/"
        },
        "outputId": "7a37b15d-6122-4f8c-932f-b3678879cbaa"
      },
      "execution_count": 9,
      "outputs": [
        {
          "output_type": "stream",
          "name": "stdout",
          "text": [
            "Downloading data from https://storage.googleapis.com/tensorflow/keras-applications/mobilenet_v2/mobilenet_v2_weights_tf_dim_ordering_tf_kernels_1.0_224_no_top.h5\n",
            "9406464/9406464 [==============================] - 1s 0us/step\n",
            "Model: \"sequential\"\n",
            "_________________________________________________________________\n",
            " Layer (type)                Output Shape              Param #   \n",
            "=================================================================\n",
            " mobilenetv2_1.00_224 (Func  (None, 7, 7, 1280)        2257984   \n",
            " tional)                                                         \n",
            "                                                                 \n",
            " global_average_pooling2d (  (None, 1280)              0         \n",
            " GlobalAveragePooling2D)                                         \n",
            "                                                                 \n",
            " dense (Dense)               (None, 256)               327936    \n",
            "                                                                 \n",
            " dropout (Dropout)           (None, 256)               0         \n",
            "                                                                 \n",
            " dense_1 (Dense)             (None, 8)                 2056      \n",
            "                                                                 \n",
            "=================================================================\n",
            "Total params: 2587976 (9.87 MB)\n",
            "Trainable params: 329992 (1.26 MB)\n",
            "Non-trainable params: 2257984 (8.61 MB)\n",
            "_________________________________________________________________\n"
          ]
        }
      ]
    },
    {
      "cell_type": "code",
      "source": [
        "# Initialize learning rate and create a LearningRateScheduler\n",
        "initial_learning_rate = 0.001\n",
        "lr_schedule = LearningRateScheduler(lambda epoch: initial_learning_rate / (10 ** (epoch // 10)))"
      ],
      "metadata": {
        "id": "8R_h7cbKCXBI"
      },
      "execution_count": 10,
      "outputs": []
    },
    {
      "cell_type": "code",
      "source": [
        "# Compile the model with Adam optimizer, categorical crossentropy loss, and accuracy metric\n",
        "model.compile(optimizer=Adam(learning_rate=initial_learning_rate),\n",
        "              loss='categorical_crossentropy',\n",
        "              metrics=['accuracy'])"
      ],
      "metadata": {
        "id": "k8XIamRhBsRl"
      },
      "execution_count": 11,
      "outputs": []
    },
    {
      "cell_type": "code",
      "execution_count": 12,
      "metadata": {
        "id": "k5Igpg-tV9Ce",
        "colab": {
          "base_uri": "https://localhost:8080/"
        },
        "outputId": "b39b1360-41f4-4ca4-e5b8-b0030ba05bd1"
      },
      "outputs": [
        {
          "output_type": "stream",
          "name": "stdout",
          "text": [
            "Epoch 1/50\n",
            "92/92 [==============================] - 157s 2s/step - loss: 0.8177 - accuracy: 0.7380 - val_loss: 0.8297 - val_accuracy: 0.7346\n",
            "Epoch 2/50\n",
            "92/92 [==============================] - 137s 1s/step - loss: 0.4763 - accuracy: 0.8416 - val_loss: 0.8524 - val_accuracy: 0.7253\n",
            "Epoch 3/50\n",
            "92/92 [==============================] - 138s 1s/step - loss: 0.4009 - accuracy: 0.8702 - val_loss: 0.8858 - val_accuracy: 0.7407\n",
            "Epoch 4/50\n",
            "92/92 [==============================] - 148s 2s/step - loss: 0.3037 - accuracy: 0.9019 - val_loss: 0.7570 - val_accuracy: 0.7654\n",
            "Epoch 5/50\n",
            "92/92 [==============================] - 150s 2s/step - loss: 0.2845 - accuracy: 0.9124 - val_loss: 0.8530 - val_accuracy: 0.7407\n",
            "Epoch 6/50\n",
            "92/92 [==============================] - 133s 1s/step - loss: 0.2670 - accuracy: 0.9158 - val_loss: 0.8152 - val_accuracy: 0.7593\n",
            "Epoch 7/50\n",
            "92/92 [==============================] - 140s 2s/step - loss: 0.2432 - accuracy: 0.9254 - val_loss: 0.7021 - val_accuracy: 0.7747\n",
            "Epoch 8/50\n",
            "92/92 [==============================] - 143s 2s/step - loss: 0.2085 - accuracy: 0.9298 - val_loss: 0.7524 - val_accuracy: 0.7901\n",
            "Epoch 9/50\n",
            "92/92 [==============================] - 148s 2s/step - loss: 0.1998 - accuracy: 0.9302 - val_loss: 0.8410 - val_accuracy: 0.7747\n",
            "Epoch 10/50\n",
            "92/92 [==============================] - 141s 2s/step - loss: 0.1660 - accuracy: 0.9486 - val_loss: 0.7580 - val_accuracy: 0.7932\n",
            "Epoch 11/50\n",
            "92/92 [==============================] - 146s 2s/step - loss: 0.1611 - accuracy: 0.9458 - val_loss: 0.7315 - val_accuracy: 0.8117\n",
            "Epoch 12/50\n",
            "92/92 [==============================] - 138s 1s/step - loss: 0.1479 - accuracy: 0.9526 - val_loss: 0.7216 - val_accuracy: 0.8056\n",
            "Epoch 13/50\n",
            "92/92 [==============================] - 152s 2s/step - loss: 0.1438 - accuracy: 0.9530 - val_loss: 0.7866 - val_accuracy: 0.8086\n",
            "Epoch 14/50\n",
            "92/92 [==============================] - 139s 2s/step - loss: 0.1304 - accuracy: 0.9557 - val_loss: 0.8282 - val_accuracy: 0.7932\n",
            "Epoch 15/50\n",
            "92/92 [==============================] - 139s 2s/step - loss: 0.1287 - accuracy: 0.9547 - val_loss: 0.8812 - val_accuracy: 0.8025\n",
            "Epoch 16/50\n",
            "92/92 [==============================] - 137s 1s/step - loss: 0.1283 - accuracy: 0.9574 - val_loss: 0.7764 - val_accuracy: 0.7932\n",
            "Epoch 17/50\n",
            "92/92 [==============================] - 138s 1s/step - loss: 0.1083 - accuracy: 0.9642 - val_loss: 0.8006 - val_accuracy: 0.7685\n",
            "Epoch 18/50\n",
            "92/92 [==============================] - 138s 1s/step - loss: 0.1068 - accuracy: 0.9639 - val_loss: 0.7228 - val_accuracy: 0.8302\n",
            "Epoch 19/50\n",
            "92/92 [==============================] - 137s 1s/step - loss: 0.0971 - accuracy: 0.9697 - val_loss: 0.8822 - val_accuracy: 0.8056\n",
            "Epoch 20/50\n",
            "92/92 [==============================] - 147s 2s/step - loss: 0.1020 - accuracy: 0.9663 - val_loss: 0.9900 - val_accuracy: 0.7747\n",
            "Epoch 21/50\n",
            "92/92 [==============================] - 149s 2s/step - loss: 0.0986 - accuracy: 0.9659 - val_loss: 0.8218 - val_accuracy: 0.8056\n",
            "Epoch 22/50\n",
            "92/92 [==============================] - 135s 1s/step - loss: 0.0999 - accuracy: 0.9618 - val_loss: 0.7273 - val_accuracy: 0.8241\n",
            "Epoch 23/50\n",
            "92/92 [==============================] - 135s 1s/step - loss: 0.0981 - accuracy: 0.9670 - val_loss: 1.0107 - val_accuracy: 0.7901\n",
            "Epoch 24/50\n",
            "92/92 [==============================] - 135s 1s/step - loss: 0.0822 - accuracy: 0.9761 - val_loss: 0.8418 - val_accuracy: 0.8241\n",
            "Epoch 25/50\n",
            "92/92 [==============================] - 147s 2s/step - loss: 0.0854 - accuracy: 0.9710 - val_loss: 0.8824 - val_accuracy: 0.8210\n",
            "Epoch 26/50\n",
            "92/92 [==============================] - 135s 1s/step - loss: 0.0810 - accuracy: 0.9714 - val_loss: 0.9245 - val_accuracy: 0.8086\n",
            "Epoch 27/50\n",
            "92/92 [==============================] - 135s 1s/step - loss: 0.0751 - accuracy: 0.9734 - val_loss: 0.7985 - val_accuracy: 0.8333\n",
            "Epoch 28/50\n",
            "92/92 [==============================] - 136s 1s/step - loss: 0.0805 - accuracy: 0.9741 - val_loss: 0.6538 - val_accuracy: 0.8611\n",
            "Epoch 29/50\n",
            "92/92 [==============================] - 147s 2s/step - loss: 0.0766 - accuracy: 0.9738 - val_loss: 0.9274 - val_accuracy: 0.8086\n",
            "Epoch 30/50\n",
            "92/92 [==============================] - 147s 2s/step - loss: 0.0718 - accuracy: 0.9779 - val_loss: 0.7610 - val_accuracy: 0.8426\n",
            "Epoch 31/50\n",
            "92/92 [==============================] - 146s 2s/step - loss: 0.0646 - accuracy: 0.9779 - val_loss: 0.8370 - val_accuracy: 0.8148\n",
            "Epoch 32/50\n",
            "92/92 [==============================] - 140s 2s/step - loss: 0.0797 - accuracy: 0.9727 - val_loss: 0.8892 - val_accuracy: 0.8056\n",
            "Epoch 33/50\n",
            "92/92 [==============================] - 138s 2s/step - loss: 0.0721 - accuracy: 0.9779 - val_loss: 0.8889 - val_accuracy: 0.8457\n",
            "Epoch 34/50\n",
            "92/92 [==============================] - 139s 2s/step - loss: 0.0639 - accuracy: 0.9796 - val_loss: 0.8073 - val_accuracy: 0.8488\n",
            "Epoch 35/50\n",
            "92/92 [==============================] - 137s 1s/step - loss: 0.0610 - accuracy: 0.9802 - val_loss: 0.9876 - val_accuracy: 0.8364\n",
            "Epoch 36/50\n",
            "92/92 [==============================] - 140s 2s/step - loss: 0.0717 - accuracy: 0.9761 - val_loss: 0.9612 - val_accuracy: 0.8333\n",
            "Epoch 37/50\n",
            "92/92 [==============================] - 149s 2s/step - loss: 0.0739 - accuracy: 0.9755 - val_loss: 0.8421 - val_accuracy: 0.8364\n",
            "Epoch 38/50\n",
            "92/92 [==============================] - 140s 2s/step - loss: 0.0589 - accuracy: 0.9792 - val_loss: 0.9944 - val_accuracy: 0.8241\n",
            "Epoch 39/50\n",
            "92/92 [==============================] - 147s 2s/step - loss: 0.0762 - accuracy: 0.9744 - val_loss: 0.7607 - val_accuracy: 0.8519\n",
            "Epoch 40/50\n",
            "92/92 [==============================] - 146s 2s/step - loss: 0.0550 - accuracy: 0.9813 - val_loss: 0.9527 - val_accuracy: 0.8333\n",
            "Epoch 41/50\n",
            "92/92 [==============================] - 138s 1s/step - loss: 0.0533 - accuracy: 0.9840 - val_loss: 0.8665 - val_accuracy: 0.8364\n",
            "Epoch 42/50\n",
            "92/92 [==============================] - 139s 2s/step - loss: 0.0587 - accuracy: 0.9799 - val_loss: 0.8553 - val_accuracy: 0.8364\n",
            "Epoch 43/50\n",
            "92/92 [==============================] - 139s 2s/step - loss: 0.0514 - accuracy: 0.9796 - val_loss: 0.7491 - val_accuracy: 0.8519\n",
            "Epoch 44/50\n",
            "92/92 [==============================] - 150s 2s/step - loss: 0.0468 - accuracy: 0.9871 - val_loss: 1.0370 - val_accuracy: 0.8148\n",
            "Epoch 45/50\n",
            "92/92 [==============================] - 140s 2s/step - loss: 0.0492 - accuracy: 0.9840 - val_loss: 0.9149 - val_accuracy: 0.8302\n",
            "Epoch 46/50\n",
            "92/92 [==============================] - 137s 1s/step - loss: 0.0488 - accuracy: 0.9850 - val_loss: 0.9219 - val_accuracy: 0.8426\n",
            "Epoch 47/50\n",
            "92/92 [==============================] - 137s 1s/step - loss: 0.0658 - accuracy: 0.9768 - val_loss: 0.6318 - val_accuracy: 0.8519\n",
            "Epoch 48/50\n",
            "92/92 [==============================] - 138s 2s/step - loss: 0.0603 - accuracy: 0.9802 - val_loss: 0.9605 - val_accuracy: 0.8302\n",
            "Epoch 49/50\n",
            "92/92 [==============================] - 139s 2s/step - loss: 0.0654 - accuracy: 0.9772 - val_loss: 1.2648 - val_accuracy: 0.7994\n",
            "Epoch 50/50\n",
            "92/92 [==============================] - 140s 2s/step - loss: 0.0544 - accuracy: 0.9806 - val_loss: 0.8505 - val_accuracy: 0.8457\n"
          ]
        }
      ],
      "source": [
        "# Train the model with early stopping, monitoring validation accuracy\n",
        "history = model.fit(train_generator,\n",
        "                    epochs=50,\n",
        "                    verbose=1,\n",
        "                    validation_data=val_generator,\n",
        "                    callbacks=[early_stopping])"
      ]
    },
    {
      "cell_type": "markdown",
      "metadata": {
        "id": "ovrKFxyuYEpz"
      },
      "source": [
        "## 5. Evaluation: Visualizing Model Training and Validation Performance\n",
        "In this section, the training history of the model, including accuracy and validation accuracy, is visualized. The training history is stored in a DataFrame, and the last 10 epochs are displayed. A line plot is generated to illustrate the trend of accuracy and validation accuracy over the epochs. The visualization provides insights into the model's learning progress and performance on both the training and validation sets."
      ]
    },
    {
      "cell_type": "code",
      "execution_count": 13,
      "metadata": {
        "id": "ce_u0tCAoBqb",
        "colab": {
          "base_uri": "https://localhost:8080/",
          "height": 363
        },
        "outputId": "319b0fff-79bd-41f9-e992-ede59236d68d"
      },
      "outputs": [
        {
          "output_type": "execute_result",
          "data": {
            "text/plain": [
              "        loss  accuracy  val_loss  val_accuracy\n",
              "40  0.053346  0.983986  0.866517      0.836420\n",
              "41  0.058682  0.979898  0.855315      0.836420\n",
              "42  0.051430  0.979557  0.749129      0.851852\n",
              "43  0.046840  0.987053  1.037004      0.814815\n",
              "44  0.049239  0.983986  0.914895      0.830247\n",
              "45  0.048769  0.985009  0.921928      0.842593\n",
              "46  0.065818  0.976831  0.631823      0.851852\n",
              "47  0.060336  0.980238  0.960544      0.830247\n",
              "48  0.065386  0.977172  1.264819      0.799383\n",
              "49  0.054407  0.980579  0.850507      0.845679"
            ],
            "text/html": [
              "\n",
              "  <div id=\"df-d8139e03-1929-4b92-ae60-f8a798a8a329\" class=\"colab-df-container\">\n",
              "    <div>\n",
              "<style scoped>\n",
              "    .dataframe tbody tr th:only-of-type {\n",
              "        vertical-align: middle;\n",
              "    }\n",
              "\n",
              "    .dataframe tbody tr th {\n",
              "        vertical-align: top;\n",
              "    }\n",
              "\n",
              "    .dataframe thead th {\n",
              "        text-align: right;\n",
              "    }\n",
              "</style>\n",
              "<table border=\"1\" class=\"dataframe\">\n",
              "  <thead>\n",
              "    <tr style=\"text-align: right;\">\n",
              "      <th></th>\n",
              "      <th>loss</th>\n",
              "      <th>accuracy</th>\n",
              "      <th>val_loss</th>\n",
              "      <th>val_accuracy</th>\n",
              "    </tr>\n",
              "  </thead>\n",
              "  <tbody>\n",
              "    <tr>\n",
              "      <th>40</th>\n",
              "      <td>0.053346</td>\n",
              "      <td>0.983986</td>\n",
              "      <td>0.866517</td>\n",
              "      <td>0.836420</td>\n",
              "    </tr>\n",
              "    <tr>\n",
              "      <th>41</th>\n",
              "      <td>0.058682</td>\n",
              "      <td>0.979898</td>\n",
              "      <td>0.855315</td>\n",
              "      <td>0.836420</td>\n",
              "    </tr>\n",
              "    <tr>\n",
              "      <th>42</th>\n",
              "      <td>0.051430</td>\n",
              "      <td>0.979557</td>\n",
              "      <td>0.749129</td>\n",
              "      <td>0.851852</td>\n",
              "    </tr>\n",
              "    <tr>\n",
              "      <th>43</th>\n",
              "      <td>0.046840</td>\n",
              "      <td>0.987053</td>\n",
              "      <td>1.037004</td>\n",
              "      <td>0.814815</td>\n",
              "    </tr>\n",
              "    <tr>\n",
              "      <th>44</th>\n",
              "      <td>0.049239</td>\n",
              "      <td>0.983986</td>\n",
              "      <td>0.914895</td>\n",
              "      <td>0.830247</td>\n",
              "    </tr>\n",
              "    <tr>\n",
              "      <th>45</th>\n",
              "      <td>0.048769</td>\n",
              "      <td>0.985009</td>\n",
              "      <td>0.921928</td>\n",
              "      <td>0.842593</td>\n",
              "    </tr>\n",
              "    <tr>\n",
              "      <th>46</th>\n",
              "      <td>0.065818</td>\n",
              "      <td>0.976831</td>\n",
              "      <td>0.631823</td>\n",
              "      <td>0.851852</td>\n",
              "    </tr>\n",
              "    <tr>\n",
              "      <th>47</th>\n",
              "      <td>0.060336</td>\n",
              "      <td>0.980238</td>\n",
              "      <td>0.960544</td>\n",
              "      <td>0.830247</td>\n",
              "    </tr>\n",
              "    <tr>\n",
              "      <th>48</th>\n",
              "      <td>0.065386</td>\n",
              "      <td>0.977172</td>\n",
              "      <td>1.264819</td>\n",
              "      <td>0.799383</td>\n",
              "    </tr>\n",
              "    <tr>\n",
              "      <th>49</th>\n",
              "      <td>0.054407</td>\n",
              "      <td>0.980579</td>\n",
              "      <td>0.850507</td>\n",
              "      <td>0.845679</td>\n",
              "    </tr>\n",
              "  </tbody>\n",
              "</table>\n",
              "</div>\n",
              "    <div class=\"colab-df-buttons\">\n",
              "\n",
              "  <div class=\"colab-df-container\">\n",
              "    <button class=\"colab-df-convert\" onclick=\"convertToInteractive('df-d8139e03-1929-4b92-ae60-f8a798a8a329')\"\n",
              "            title=\"Convert this dataframe to an interactive table.\"\n",
              "            style=\"display:none;\">\n",
              "\n",
              "  <svg xmlns=\"http://www.w3.org/2000/svg\" height=\"24px\" viewBox=\"0 -960 960 960\">\n",
              "    <path d=\"M120-120v-720h720v720H120Zm60-500h600v-160H180v160Zm220 220h160v-160H400v160Zm0 220h160v-160H400v160ZM180-400h160v-160H180v160Zm440 0h160v-160H620v160ZM180-180h160v-160H180v160Zm440 0h160v-160H620v160Z\"/>\n",
              "  </svg>\n",
              "    </button>\n",
              "\n",
              "  <style>\n",
              "    .colab-df-container {\n",
              "      display:flex;\n",
              "      gap: 12px;\n",
              "    }\n",
              "\n",
              "    .colab-df-convert {\n",
              "      background-color: #E8F0FE;\n",
              "      border: none;\n",
              "      border-radius: 50%;\n",
              "      cursor: pointer;\n",
              "      display: none;\n",
              "      fill: #1967D2;\n",
              "      height: 32px;\n",
              "      padding: 0 0 0 0;\n",
              "      width: 32px;\n",
              "    }\n",
              "\n",
              "    .colab-df-convert:hover {\n",
              "      background-color: #E2EBFA;\n",
              "      box-shadow: 0px 1px 2px rgba(60, 64, 67, 0.3), 0px 1px 3px 1px rgba(60, 64, 67, 0.15);\n",
              "      fill: #174EA6;\n",
              "    }\n",
              "\n",
              "    .colab-df-buttons div {\n",
              "      margin-bottom: 4px;\n",
              "    }\n",
              "\n",
              "    [theme=dark] .colab-df-convert {\n",
              "      background-color: #3B4455;\n",
              "      fill: #D2E3FC;\n",
              "    }\n",
              "\n",
              "    [theme=dark] .colab-df-convert:hover {\n",
              "      background-color: #434B5C;\n",
              "      box-shadow: 0px 1px 3px 1px rgba(0, 0, 0, 0.15);\n",
              "      filter: drop-shadow(0px 1px 2px rgba(0, 0, 0, 0.3));\n",
              "      fill: #FFFFFF;\n",
              "    }\n",
              "  </style>\n",
              "\n",
              "    <script>\n",
              "      const buttonEl =\n",
              "        document.querySelector('#df-d8139e03-1929-4b92-ae60-f8a798a8a329 button.colab-df-convert');\n",
              "      buttonEl.style.display =\n",
              "        google.colab.kernel.accessAllowed ? 'block' : 'none';\n",
              "\n",
              "      async function convertToInteractive(key) {\n",
              "        const element = document.querySelector('#df-d8139e03-1929-4b92-ae60-f8a798a8a329');\n",
              "        const dataTable =\n",
              "          await google.colab.kernel.invokeFunction('convertToInteractive',\n",
              "                                                    [key], {});\n",
              "        if (!dataTable) return;\n",
              "\n",
              "        const docLinkHtml = 'Like what you see? Visit the ' +\n",
              "          '<a target=\"_blank\" href=https://colab.research.google.com/notebooks/data_table.ipynb>data table notebook</a>'\n",
              "          + ' to learn more about interactive tables.';\n",
              "        element.innerHTML = '';\n",
              "        dataTable['output_type'] = 'display_data';\n",
              "        await google.colab.output.renderOutput(dataTable, element);\n",
              "        const docLink = document.createElement('div');\n",
              "        docLink.innerHTML = docLinkHtml;\n",
              "        element.appendChild(docLink);\n",
              "      }\n",
              "    </script>\n",
              "  </div>\n",
              "\n",
              "\n",
              "<div id=\"df-d38dc143-7d16-462b-b5af-b1206aa52ede\">\n",
              "  <button class=\"colab-df-quickchart\" onclick=\"quickchart('df-d38dc143-7d16-462b-b5af-b1206aa52ede')\"\n",
              "            title=\"Suggest charts\"\n",
              "            style=\"display:none;\">\n",
              "\n",
              "<svg xmlns=\"http://www.w3.org/2000/svg\" height=\"24px\"viewBox=\"0 0 24 24\"\n",
              "     width=\"24px\">\n",
              "    <g>\n",
              "        <path d=\"M19 3H5c-1.1 0-2 .9-2 2v14c0 1.1.9 2 2 2h14c1.1 0 2-.9 2-2V5c0-1.1-.9-2-2-2zM9 17H7v-7h2v7zm4 0h-2V7h2v10zm4 0h-2v-4h2v4z\"/>\n",
              "    </g>\n",
              "</svg>\n",
              "  </button>\n",
              "\n",
              "<style>\n",
              "  .colab-df-quickchart {\n",
              "      --bg-color: #E8F0FE;\n",
              "      --fill-color: #1967D2;\n",
              "      --hover-bg-color: #E2EBFA;\n",
              "      --hover-fill-color: #174EA6;\n",
              "      --disabled-fill-color: #AAA;\n",
              "      --disabled-bg-color: #DDD;\n",
              "  }\n",
              "\n",
              "  [theme=dark] .colab-df-quickchart {\n",
              "      --bg-color: #3B4455;\n",
              "      --fill-color: #D2E3FC;\n",
              "      --hover-bg-color: #434B5C;\n",
              "      --hover-fill-color: #FFFFFF;\n",
              "      --disabled-bg-color: #3B4455;\n",
              "      --disabled-fill-color: #666;\n",
              "  }\n",
              "\n",
              "  .colab-df-quickchart {\n",
              "    background-color: var(--bg-color);\n",
              "    border: none;\n",
              "    border-radius: 50%;\n",
              "    cursor: pointer;\n",
              "    display: none;\n",
              "    fill: var(--fill-color);\n",
              "    height: 32px;\n",
              "    padding: 0;\n",
              "    width: 32px;\n",
              "  }\n",
              "\n",
              "  .colab-df-quickchart:hover {\n",
              "    background-color: var(--hover-bg-color);\n",
              "    box-shadow: 0 1px 2px rgba(60, 64, 67, 0.3), 0 1px 3px 1px rgba(60, 64, 67, 0.15);\n",
              "    fill: var(--button-hover-fill-color);\n",
              "  }\n",
              "\n",
              "  .colab-df-quickchart-complete:disabled,\n",
              "  .colab-df-quickchart-complete:disabled:hover {\n",
              "    background-color: var(--disabled-bg-color);\n",
              "    fill: var(--disabled-fill-color);\n",
              "    box-shadow: none;\n",
              "  }\n",
              "\n",
              "  .colab-df-spinner {\n",
              "    border: 2px solid var(--fill-color);\n",
              "    border-color: transparent;\n",
              "    border-bottom-color: var(--fill-color);\n",
              "    animation:\n",
              "      spin 1s steps(1) infinite;\n",
              "  }\n",
              "\n",
              "  @keyframes spin {\n",
              "    0% {\n",
              "      border-color: transparent;\n",
              "      border-bottom-color: var(--fill-color);\n",
              "      border-left-color: var(--fill-color);\n",
              "    }\n",
              "    20% {\n",
              "      border-color: transparent;\n",
              "      border-left-color: var(--fill-color);\n",
              "      border-top-color: var(--fill-color);\n",
              "    }\n",
              "    30% {\n",
              "      border-color: transparent;\n",
              "      border-left-color: var(--fill-color);\n",
              "      border-top-color: var(--fill-color);\n",
              "      border-right-color: var(--fill-color);\n",
              "    }\n",
              "    40% {\n",
              "      border-color: transparent;\n",
              "      border-right-color: var(--fill-color);\n",
              "      border-top-color: var(--fill-color);\n",
              "    }\n",
              "    60% {\n",
              "      border-color: transparent;\n",
              "      border-right-color: var(--fill-color);\n",
              "    }\n",
              "    80% {\n",
              "      border-color: transparent;\n",
              "      border-right-color: var(--fill-color);\n",
              "      border-bottom-color: var(--fill-color);\n",
              "    }\n",
              "    90% {\n",
              "      border-color: transparent;\n",
              "      border-bottom-color: var(--fill-color);\n",
              "    }\n",
              "  }\n",
              "</style>\n",
              "\n",
              "  <script>\n",
              "    async function quickchart(key) {\n",
              "      const quickchartButtonEl =\n",
              "        document.querySelector('#' + key + ' button');\n",
              "      quickchartButtonEl.disabled = true;  // To prevent multiple clicks.\n",
              "      quickchartButtonEl.classList.add('colab-df-spinner');\n",
              "      try {\n",
              "        const charts = await google.colab.kernel.invokeFunction(\n",
              "            'suggestCharts', [key], {});\n",
              "      } catch (error) {\n",
              "        console.error('Error during call to suggestCharts:', error);\n",
              "      }\n",
              "      quickchartButtonEl.classList.remove('colab-df-spinner');\n",
              "      quickchartButtonEl.classList.add('colab-df-quickchart-complete');\n",
              "    }\n",
              "    (() => {\n",
              "      let quickchartButtonEl =\n",
              "        document.querySelector('#df-d38dc143-7d16-462b-b5af-b1206aa52ede button');\n",
              "      quickchartButtonEl.style.display =\n",
              "        google.colab.kernel.accessAllowed ? 'block' : 'none';\n",
              "    })();\n",
              "  </script>\n",
              "</div>\n",
              "    </div>\n",
              "  </div>\n"
            ]
          },
          "metadata": {},
          "execution_count": 13
        }
      ],
      "source": [
        "# Create a DataFrame to store the training history (loss and metrics)\n",
        "model_loss = pd.DataFrame(model.history.history)\n",
        "\n",
        "# Display the last 10 rows of the training history DataFrame\n",
        "model_loss.tail(10)"
      ]
    },
    {
      "cell_type": "code",
      "source": [
        "# Extract and plot accuracy and validation accuracy over epochs\n",
        "mod = model_loss[['accuracy', 'val_accuracy']].plot()\n",
        "\n",
        "# Customize the plot with title, xlabel, and ylabel\n",
        "mod.set(\n",
        "    title=\"Model Evaluation\",\n",
        "    xlabel=\"Number of Epochs\",\n",
        "    ylabel=\"Accuracy (%)\"\n",
        ")\n",
        "\n",
        "# Show the plot\n",
        "plt.show()"
      ],
      "metadata": {
        "id": "HgUaaMPF7zUX",
        "colab": {
          "base_uri": "https://localhost:8080/",
          "height": 472
        },
        "outputId": "de19992a-1c21-47b1-d22d-d49c389fbcc0"
      },
      "execution_count": 14,
      "outputs": [
        {
          "output_type": "display_data",
          "data": {
            "text/plain": [
              "<Figure size 640x480 with 1 Axes>"
            ],
            "image/png": "[encoded data removed]"
          },
          "metadata": {}
        }
      ]
    },
    {
      "cell_type": "markdown",
      "metadata": {
        "id": "4cp77Q-x8j4X"
      },
      "source": [
        "## 6. Image Classification: Predicting Batik Class from Uploaded Image\n",
        "This code section enables users to leverage a pre-trained batik image classification model to predict the class of an uploaded image. The step-by-step process involves uploading an image using Google Colab's file upload widget, extracting the file name, loading and preprocessing the image, making predictions using the model, and interpreting the results. The final prediction, indicating the predicted batik class label, is then displayed for user interpretation. The class labels are mapped to specific indices, allowing the model to identify the most likely batik class for the given image. Users can easily replace or expand the class_labels list to accommodate different batik classes."
      ]
    },
    {
      "cell_type": "code",
      "source": [
        "# Upload the image file using Google Colab's file upload widget\n",
        "uploaded = files.upload()\n",
        "\n",
        "# Get the uploaded file name\n",
        "file_name = list(uploaded.keys())[0]"
      ],
      "metadata": {
        "id": "e8R9jtNM6scH",
        "colab": {
          "base_uri": "https://localhost:8080/",
          "height": 73
        },
        "outputId": "d6841040-3e55-4148-9065-7bdf66e865b1"
      },
      "execution_count": 15,
      "outputs": [
        {
          "output_type": "display_data",
          "data": {
            "text/plain": [
              "<IPython.core.display.HTML object>"
            ],
            "text/html": [
              "\n",
              "     <input type=\"file\" id=\"files-a2b9cbd8-a3f9-4604-9492-ffac15b98a45\" name=\"files[]\" multiple disabled\n",
              "        style=\"border:none\" />\n",
              "     <output id=\"result-a2b9cbd8-a3f9-4604-9492-ffac15b98a45\">\n",
              "      Upload widget is only available when the cell has been executed in the\n",
              "      current browser session. Please rerun this cell to enable.\n",
              "      </output>\n",
              "      <script>// Copyright 2017 Google LLC\n",
              "//\n",
              "// Licensed under the Apache License, Version 2.0 (the \"License\");\n",
              "// you may not use this file except in compliance with the License.\n",
              "// You may obtain a copy of the License at\n",
              "//\n",
              "//      http://www.apache.org/licenses/LICENSE-2.0\n",
              "//\n",
              "// Unless required by applicable law or agreed to in writing, software\n",
              "// distributed under the License is distributed on an \"AS IS\" BASIS,\n",
              "// WITHOUT WARRANTIES OR CONDITIONS OF ANY KIND, either express or implied.\n",
              "// See the License for the specific language governing permissions and\n",
              "// limitations under the License.\n",
              "\n",
              "/**\n",
              " * @fileoverview Helpers for google.colab Python module.\n",
              " */\n",
              "(function(scope) {\n",
              "function span(text, styleAttributes = {}) {\n",
              "  const element = document.createElement('span');\n",
              "  element.textContent = text;\n",
              "  for (const key of Object.keys(styleAttributes)) {\n",
              "    element.style[key] = styleAttributes[key];\n",
              "  }\n",
              "  return element;\n",
              "}\n",
              "\n",
              "// Max number of bytes which will be uploaded at a time.\n",
              "const MAX_PAYLOAD_SIZE = 100 * 1024;\n",
              "\n",
              "function _uploadFiles(inputId, outputId) {\n",
              "  const steps = uploadFilesStep(inputId, outputId);\n",
              "  const outputElement = document.getElementById(outputId);\n",
              "  // Cache steps on the outputElement to make it available for the next call\n",
              "  // to uploadFilesContinue from Python.\n",
              "  outputElement.steps = steps;\n",
              "\n",
              "  return _uploadFilesContinue(outputId);\n",
              "}\n",
              "\n",
              "// This is roughly an async generator (not supported in the browser yet),\n",
              "// where there are multiple asynchronous steps and the Python side is going\n",
              "// to poll for completion of each step.\n",
              "// This uses a Promise to block the python side on completion of each step,\n",
              "// then passes the result of the previous step as the input to the next step.\n",
              "function _uploadFilesContinue(outputId) {\n",
              "  const outputElement = document.getElementById(outputId);\n",
              "  const steps = outputElement.steps;\n",
              "\n",
              "  const next = steps.next(outputElement.lastPromiseValue);\n",
              "  return Promise.resolve(next.value.promise).then((value) => {\n",
              "    // Cache the last promise value to make it available to the next\n",
              "    // step of the generator.\n",
              "    outputElement.lastPromiseValue = value;\n",
              "    return next.value.response;\n",
              "  });\n",
              "}\n",
              "\n",
              "/**\n",
              " * Generator function which is called between each async step of the upload\n",
              " * process.\n",
              " * @param {string} inputId Element ID of the input file picker element.\n",
              " * @param {string} outputId Element ID of the output display.\n",
              " * @return {!Iterable<!Object>} Iterable of next steps.\n",
              " */\n",
              "function* uploadFilesStep(inputId, outputId) {\n",
              "  const inputElement = document.getElementById(inputId);\n",
              "  inputElement.disabled = false;\n",
              "\n",
              "  const outputElement = document.getElementById(outputId);\n",
              "  outputElement.innerHTML = '';\n",
              "\n",
              "  const pickedPromise = new Promise((resolve) => {\n",
              "    inputElement.addEventListener('change', (e) => {\n",
              "      resolve(e.target.files);\n",
              "    });\n",
              "  });\n",
              "\n",
              "  const cancel = document.createElement('button');\n",
              "  inputElement.parentElement.appendChild(cancel);\n",
              "  cancel.textContent = 'Cancel upload';\n",
              "  const cancelPromise = new Promise((resolve) => {\n",
              "    cancel.onclick = () => {\n",
              "      resolve(null);\n",
              "    };\n",
              "  });\n",
              "\n",
              "  // Wait for the user to pick the files.\n",
              "  const files = yield {\n",
              "    promise: Promise.race([pickedPromise, cancelPromise]),\n",
              "    response: {\n",
              "      action: 'starting',\n",
              "    }\n",
              "  };\n",
              "\n",
              "  cancel.remove();\n",
              "\n",
              "  // Disable the input element since further picks are not allowed.\n",
              "  inputElement.disabled = true;\n",
              "\n",
              "  if (!files) {\n",
              "    return {\n",
              "      response: {\n",
              "        action: 'complete',\n",
              "      }\n",
              "    };\n",
              "  }\n",
              "\n",
              "  for (const file of files) {\n",
              "    const li = document.createElement('li');\n",
              "    li.append(span(file.name, {fontWeight: 'bold'}));\n",
              "    li.append(span(\n",
              "        `(${file.type || 'n/a'}) - ${file.size} bytes, ` +\n",
              "        `last modified: ${\n",
              "            file.lastModifiedDate ? file.lastModifiedDate.toLocaleDateString() :\n",
              "                                    'n/a'} - `));\n",
              "    const percent = span('0% done');\n",
              "    li.appendChild(percent);\n",
              "\n",
              "    outputElement.appendChild(li);\n",
              "\n",
              "    const fileDataPromise = new Promise((resolve) => {\n",
              "      const reader = new FileReader();\n",
              "      reader.onload = (e) => {\n",
              "        resolve(e.target.result);\n",
              "      };\n",
              "      reader.readAsArrayBuffer(file);\n",
              "    });\n",
              "    // Wait for the data to be ready.\n",
              "    let fileData = yield {\n",
              "      promise: fileDataPromise,\n",
              "      response: {\n",
              "        action: 'continue',\n",
              "      }\n",
              "    };\n",
              "\n",
              "    // Use a chunked sending to avoid message size limits. See b/62115660.\n",
              "    let position = 0;\n",
              "    do {\n",
              "      const length = Math.min(fileData.byteLength - position, MAX_PAYLOAD_SIZE);\n",
              "      const chunk = new Uint8Array(fileData, position, length);\n",
              "      position += length;\n",
              "\n",
              "      const base64 = btoa(String.fromCharCode.apply(null, chunk));\n",
              "      yield {\n",
              "        response: {\n",
              "          action: 'append',\n",
              "          file: file.name,\n",
              "          data: base64,\n",
              "        },\n",
              "      };\n",
              "\n",
              "      let percentDone = fileData.byteLength === 0 ?\n",
              "          100 :\n",
              "          Math.round((position / fileData.byteLength) * 100);\n",
              "      percent.textContent = `${percentDone}% done`;\n",
              "\n",
              "    } while (position < fileData.byteLength);\n",
              "  }\n",
              "\n",
              "  // All done.\n",
              "  yield {\n",
              "    response: {\n",
              "      action: 'complete',\n",
              "    }\n",
              "  };\n",
              "}\n",
              "\n",
              "scope.google = scope.google || {};\n",
              "scope.google.colab = scope.google.colab || {};\n",
              "scope.google.colab._files = {\n",
              "  _uploadFiles,\n",
              "  _uploadFilesContinue,\n",
              "};\n",
              "})(self);\n",
              "</script> "
            ]
          },
          "metadata": {}
        },
        {
          "output_type": "stream",
          "name": "stdout",
          "text": [
            "Saving batik pati.jpg to batik pati.jpg\n"
          ]
        }
      ]
    },
    {
      "cell_type": "code",
      "source": [
        "# Load and preprocess the uploaded image for model input\n",
        "img = image.load_img(file_name, target_size=(224, 224))\n",
        "img_array = image.img_to_array(img)\n",
        "img_array = np.expand_dims(img_array, axis=0)\n",
        "img_array = preprocess_input(img_array)\n",
        "\n",
        "# Make predictions using the pre-trained batik image classification model\n",
        "predictions = model.predict(img_array)\n",
        "\n",
        "# # Retrieve class indices\n",
        "# class_indices = train_generator.class_indices\n",
        "\n",
        "# # Reverse the dictionary to map indices to class labels\n",
        "# index_to_class = {v: k for k, v in class_indices.items()}\n",
        "\n",
        "# # Make predictions as before\n",
        "# predicted_class_index = np.argmax(predictions)\n",
        "\n",
        "# # Map index to class label\n",
        "# predicted_class_label = index_to_class[predicted_class_index]\n",
        "\n",
        "# print(f'The predicted class is: {predicted_class_label}')\n",
        "\n",
        "# Interpret predictions by identifying the predicted class index\n",
        "predicted_class_index = np.argmax(predictions)\n",
        "\n",
        "# Map the index to the corresponding class label\n",
        "class_labels = ['Batik Lasem', 'Batik Parang', 'Batik Pati', 'Batik Pekalongan', 'Batik Sekar Jagad', 'Batik Sidoluhur', 'Batik Sogan', 'Batik Truntum']\n",
        "predicted_class_label = class_labels[predicted_class_index]\n",
        "\n",
        "# Display the predicted batik class label\n",
        "print(f'The predicted class is: {predicted_class_label}')"
      ],
      "metadata": {
        "id": "MsFQ-toc6tmm",
        "colab": {
          "base_uri": "https://localhost:8080/"
        },
        "outputId": "d5dfc53c-6b1c-40be-bd35-31b52883a1f7"
      },
      "execution_count": 16,
      "outputs": [
        {
          "output_type": "stream",
          "name": "stdout",
          "text": [
            "1/1 [==============================] - 1s 753ms/step\n",
            "The predicted class is: Batik Pati\n"
          ]
        }
      ]
    },
    {
      "cell_type": "code",
      "source": [
        "# Interpret predictions\n",
        "predicted_class_indices = np.argsort(predictions[0])[::-1][:3]\n",
        "predicted_class_labels = [class_labels[i] for i in predicted_class_indices]\n",
        "predicted_class_probabilities = predictions[0][predicted_class_indices]\n",
        "\n",
        "# Print the top three predicted classes and their probabilities\n",
        "for label, probability in zip(predicted_class_labels, predicted_class_probabilities):\n",
        "    print(f'The predicted class is: {label} with probability: {probability}')"
      ],
      "metadata": {
        "id": "hM3cECh_3Amj",
        "colab": {
          "base_uri": "https://localhost:8080/"
        },
        "outputId": "1f87996e-dab0-45be-f7c0-948d25856b4b"
      },
      "execution_count": 17,
      "outputs": [
        {
          "output_type": "stream",
          "name": "stdout",
          "text": [
            "The predicted class is: Batik Pati with probability: 0.9999831914901733\n",
            "The predicted class is: Batik Pekalongan with probability: 9.094852430280298e-06\n",
            "The predicted class is: Batik Truntum with probability: 7.520206054323353e-06\n"
          ]
        }
      ]
    },
    {
      "cell_type": "markdown",
      "metadata": {
        "id": "IPGSmTm4cezx"
      },
      "source": [
        "## 7. Model Saving and TensorFlow.js Conversion\n",
        "This code snippet simplifies the process of saving and reusing a batik image classification model. Initially, the trained model is saved in the common .h5 file format for easy storage. Later, the saved model is loaded back into the runtime using the load_model function. To broaden deployment options, the model is then converted to TensorFlow.js format using the save_keras_model function. The success message signals that the conversion is complete, making the model ready for deployment in web browsers or other JavaScript environments. Users can customize filenames based on their preferences."
      ]
    },
    {
      "cell_type": "code",
      "execution_count": 18,
      "metadata": {
        "id": "Ddc5aKYwpGP7",
        "colab": {
          "base_uri": "https://localhost:8080/",
          "height": 72
        },
        "outputId": "eafdfcb1-e13d-4be5-c5c1-dd09d4e44199"
      },
      "outputs": [
        {
          "output_type": "stream",
          "name": "stderr",
          "text": [
            "/usr/local/lib/python3.10/dist-packages/keras/src/engine/training.py:3103: UserWarning: You are saving your model as an HDF5 file via `model.save()`. This file format is considered legacy. We recommend using instead the native Keras format, e.g. `model.save('my_model.keras')`.\n",
            "  saving_api.save_model(\n"
          ]
        },
        {
          "output_type": "display_data",
          "data": {
            "text/plain": [
              "<IPython.core.display.Javascript object>"
            ],
            "application/javascript": [
              "\n",
              "    async function download(id, filename, size) {\n",
              "      if (!google.colab.kernel.accessAllowed) {\n",
              "        return;\n",
              "      }\n",
              "      const div = document.createElement('div');\n",
              "      const label = document.createElement('label');\n",
              "      label.textContent = `Downloading \"${filename}\": `;\n",
              "      div.appendChild(label);\n",
              "      const progress = document.createElement('progress');\n",
              "      progress.max = size;\n",
              "      div.appendChild(progress);\n",
              "      document.body.appendChild(div);\n",
              "\n",
              "      const buffers = [];\n",
              "      let downloaded = 0;\n",
              "\n",
              "      const channel = await google.colab.kernel.comms.open(id);\n",
              "      // Send a message to notify the kernel that we're ready.\n",
              "      channel.send({})\n",
              "\n",
              "      for await (const message of channel.messages) {\n",
              "        // Send a message to notify the kernel that we're ready.\n",
              "        channel.send({})\n",
              "        if (message.buffers) {\n",
              "          for (const buffer of message.buffers) {\n",
              "            buffers.push(buffer);\n",
              "            downloaded += buffer.byteLength;\n",
              "            progress.value = downloaded;\n",
              "          }\n",
              "        }\n",
              "      }\n",
              "      const blob = new Blob(buffers, {type: 'application/binary'});\n",
              "      const a = document.createElement('a');\n",
              "      a.href = window.URL.createObjectURL(blob);\n",
              "      a.download = filename;\n",
              "      div.appendChild(a);\n",
              "      a.click();\n",
              "      div.remove();\n",
              "    }\n",
              "  "
            ]
          },
          "metadata": {}
        },
        {
          "output_type": "display_data",
          "data": {
            "text/plain": [
              "<IPython.core.display.Javascript object>"
            ],
            "application/javascript": [
              "download(\"download_75ee08d5-e551-47c5-be7d-185c2204944f\", \"batik_model.h5\", 13345344)"
            ]
          },
          "metadata": {}
        }
      ],
      "source": [
        "# Save the trained model in .h5 file format\n",
        "model.save('/batik_model.h5')\n",
        "\n",
        "# Download the saved model file\n",
        "files.download('/batik_model.h5')"
      ]
    },
    {
      "cell_type": "code",
      "execution_count": 19,
      "metadata": {
        "id": "2RIEvXl4pnOh",
        "colab": {
          "base_uri": "https://localhost:8080/"
        },
        "outputId": "e745396b-17f1-45ff-f35f-00c6306a43de"
      },
      "outputs": [
        {
          "output_type": "stream",
          "name": "stdout",
          "text": [
            "Model converted to TensorFlow.js format and saved successfully.\n"
          ]
        }
      ],
      "source": [
        "# Load the saved image classifier model\n",
        "model = load_model('/batik_model.h5')\n",
        "\n",
        "# Convert the loaded model to TensorFlow.js format\n",
        "tfjs.converters.save_keras_model(model, 'tfjs_model')\n",
        "\n",
        "# Display success message after model conversion\n",
        "print(\"Model converted to TensorFlow.js format and saved successfully.\")"
      ]
    },
    {
      "cell_type": "code",
      "source": [
        "# Create a zip file containing the TensorFlow.js model files\n",
        "!zip -r tfjs_model.zip tfjs_model\n",
        "\n",
        "# Download the zip file containing the TensorFlow.js model\n",
        "files.download('tfjs_model.zip')"
      ],
      "metadata": {
        "id": "v6qEGTkimb53",
        "colab": {
          "base_uri": "https://localhost:8080/",
          "height": 104
        },
        "outputId": "941228d0-5c95-4973-857e-b72a797a408d"
      },
      "execution_count": 20,
      "outputs": [
        {
          "output_type": "stream",
          "name": "stdout",
          "text": [
            "  adding: tfjs_model/ (stored 0%)\n",
            "  adding: tfjs_model/group1-shard2of3.bin (deflated 7%)\n",
            "  adding: tfjs_model/group1-shard1of3.bin (deflated 7%)\n",
            "  adding: tfjs_model/model.json (deflated 96%)\n",
            "  adding: tfjs_model/group1-shard3of3.bin (deflated 7%)\n"
          ]
        },
        {
          "output_type": "display_data",
          "data": {
            "text/plain": [
              "<IPython.core.display.Javascript object>"
            ],
            "application/javascript": [
              "\n",
              "    async function download(id, filename, size) {\n",
              "      if (!google.colab.kernel.accessAllowed) {\n",
              "        return;\n",
              "      }\n",
              "      const div = document.createElement('div');\n",
              "      const label = document.createElement('label');\n",
              "      label.textContent = `Downloading \"${filename}\": `;\n",
              "      div.appendChild(label);\n",
              "      const progress = document.createElement('progress');\n",
              "      progress.max = size;\n",
              "      div.appendChild(progress);\n",
              "      document.body.appendChild(div);\n",
              "\n",
              "      const buffers = [];\n",
              "      let downloaded = 0;\n",
              "\n",
              "      const channel = await google.colab.kernel.comms.open(id);\n",
              "      // Send a message to notify the kernel that we're ready.\n",
              "      channel.send({})\n",
              "\n",
              "      for await (const message of channel.messages) {\n",
              "        // Send a message to notify the kernel that we're ready.\n",
              "        channel.send({})\n",
              "        if (message.buffers) {\n",
              "          for (const buffer of message.buffers) {\n",
              "            buffers.push(buffer);\n",
              "            downloaded += buffer.byteLength;\n",
              "            progress.value = downloaded;\n",
              "          }\n",
              "        }\n",
              "      }\n",
              "      const blob = new Blob(buffers, {type: 'application/binary'});\n",
              "      const a = document.createElement('a');\n",
              "      a.href = window.URL.createObjectURL(blob);\n",
              "      a.download = filename;\n",
              "      div.appendChild(a);\n",
              "      a.click();\n",
              "      div.remove();\n",
              "    }\n",
              "  "
            ]
          },
          "metadata": {}
        },
        {
          "output_type": "display_data",
          "data": {
            "text/plain": [
              "<IPython.core.display.Javascript object>"
            ],
            "application/javascript": [
              "download(\"download_19cfd60b-a286-42ab-8751-b3fd637d42d9\", \"tfjs_model.zip\", 9626118)"
            ]
          },
          "metadata": {}
        }
      ]
    },
    {
      "cell_type": "markdown",
      "metadata": {
        "id": "Esqn_Dp5cAd_"
      },
      "source": [
        "## 8. Retrieving Batik Information from Spreadsheet\n",
        "This code section guides users through the authentication and interaction with a Google Spreadsheet to retrieve detailed information about batik motifs. It includes steps for authenticating the Google account, importing necessary libraries, accessing a specific worksheet, and converting data into a Pandas DataFrame. A function is defined to extract batik origin and description information based on a predicted class label. The code showcases an example usage of the function, demonstrating the retrieval of information for a predicted batik class label. Users can adapt the code for their specific Google Spreadsheet URL, worksheet names, and batik information columns."
      ]
    },
    {
      "cell_type": "code",
      "source": [
        "# Authenticate the Google account to be linked with Colab\n",
        "auth.authenticate_user()"
      ],
      "metadata": {
        "id": "dpDwMJ6etapc"
      },
      "execution_count": 21,
      "outputs": []
    },
    {
      "cell_type": "code",
      "source": [
        "# Import necessary libraries for Google Sheets interaction\n",
        "creds, _ = default()\n",
        "gc = gspread.authorize(creds)"
      ],
      "metadata": {
        "id": "bHdKGwaEtnj1"
      },
      "execution_count": 22,
      "outputs": []
    },
    {
      "cell_type": "code",
      "source": [
        "# Open the Spreadsheet URL and save it into a variable\n",
        "spreadsheet = gc.open_by_url('https://docs.google.com/spreadsheets/d/15zScMSf0hkqOMDfAvGq_Klh3nT3qZ80HSZOoCnsXWfc/edit?usp=sharing')"
      ],
      "metadata": {
        "id": "v6AV6bQ1w9S8"
      },
      "execution_count": 23,
      "outputs": []
    },
    {
      "cell_type": "code",
      "source": [
        "# Access the specific worksheet within the spreadsheet\n",
        "sheet = spreadsheet.worksheet('Jawa Tengah')"
      ],
      "metadata": {
        "id": "Txru5EjrxXyn"
      },
      "execution_count": 24,
      "outputs": []
    },
    {
      "cell_type": "code",
      "source": [
        "# Retrieve all records from the sheet and convert to a Pandas DataFrame\n",
        "data = sheet.get_all_records()\n",
        "batikJaTeng_df = pd.DataFrame(data)\n",
        "\n",
        "# Display the DataFrame containing batik information\n",
        "print(batikJaTeng_df)"
      ],
      "metadata": {
        "id": "_5FnkWiixrKY",
        "colab": {
          "base_uri": "https://localhost:8080/"
        },
        "outputId": "368820d9-99d4-463a-db25-347104c1d3f6"
      },
      "execution_count": 25,
      "outputs": [
        {
          "output_type": "stream",
          "name": "stdout",
          "text": [
            "                Name   Type      Origin  Latitude   Longitude     Province  \\\n",
            "0        Batik Lasem  Batik     Rembang -6.707108  111.331832  Jawa Tengah   \n",
            "1       Batik Parang  Batik        Solo -7.567375  110.828596  Jawa Tengah   \n",
            "2         Batik Pati  Batik        Pati -6.753230  111.036045  Jawa Tengah   \n",
            "3   Batik Pekalongan  Batik  Pekalongan -6.892021  109.682399  Jawa Tengah   \n",
            "4  Batik Sekar Jagad  Batik        Solo -7.567375  110.828596  Jawa Tengah   \n",
            "5    Batik Sidoluhur  Batik    Banyumas -7.531320  109.276062  Jawa Tengah   \n",
            "6        Batik Sogan  Batik        Solo -7.567375  110.828596  Jawa Tengah   \n",
            "7      Batik Truntum  Batik        Solo -7.567375  110.828596  Jawa Tengah   \n",
            "\n",
            "                                         Description  \n",
            "0  Batik Lasem terkenal dengan warna-warna kontra...  \n",
            "1  Batik Parang dikenal dengan motif geometris ya...  \n",
            "2  Batik Pati memiliki motif-motif yang bervarias...  \n",
            "3  Batik Pekalongan memiliki keunikan dalam pengg...  \n",
            "4  Batik Sekar Jagad memiliki motif bunga-bunga y...  \n",
            "5  Batik Sidoluhur memiliki motif tradisional yan...  \n",
            "6  Batik Sogan memiliki warna dasar yang cenderun...  \n",
            "7  Batik Truntum memiliki motif utama berupa pola...  \n"
          ]
        }
      ]
    },
    {
      "cell_type": "code",
      "source": [
        "# Function to get batik informations based on predicted class label\n",
        "def get_batik_info(predicted_class_label, batikJaTeng_df):\n",
        "    matching_row = batikJaTeng_df[batikJaTeng_df['Name'] == predicted_class_label]\n",
        "\n",
        "    if not matching_row.empty:\n",
        "        info = {\n",
        "            'Name': matching_row['Name'].values[0],\n",
        "            'Type': matching_row['Type'].values[0],\n",
        "            'Origin': matching_row['Origin'].values[0],\n",
        "            'Latitude': matching_row['Latitude'].values[0],\n",
        "            'Longitude': matching_row['Longitude'].values[0],\n",
        "            'Province': matching_row['Province'].values[0],\n",
        "            'Description': matching_row['Description'].values[0],\n",
        "        }\n",
        "        return info\n",
        "    else:\n",
        "        return {'error': 'Batik hasn\\'t yet been added to JelajahI\\'s encyclopedia'}"
      ],
      "metadata": {
        "id": "pncfrw4qyJrc"
      },
      "execution_count": 26,
      "outputs": []
    },
    {
      "cell_type": "code",
      "source": [
        "# Example usage: Retrieve batik information based on the predicted class label\n",
        "result = get_batik_info(predicted_class_label, batikJaTeng_df)\n",
        "\n",
        "# Display the result\n",
        "print(result)"
      ],
      "metadata": {
        "id": "JBw9MjU70v3V",
        "colab": {
          "base_uri": "https://localhost:8080/"
        },
        "outputId": "6f27c04f-bb49-4945-8054-1c229d2aec08"
      },
      "execution_count": 27,
      "outputs": [
        {
          "output_type": "stream",
          "name": "stdout",
          "text": [
            "{'Name': 'Batik Pati', 'Type': 'Batik', 'Origin': 'Pati', 'Latitude': -6.753229640231162, 'Longitude': 111.0360452054126, 'Province': 'Jawa Tengah', 'Description': 'Batik Pati memiliki motif-motif yang bervariasi, mencakup pola-pola geometris dan floral. Warna-warna yang digunakan bisa menciptakan tampilan yang elegan dan menarik.'}\n"
          ]
        }
      ]
    }
  ],
  "metadata": {
    "colab": {
      "provenance": [],
      "gpuType": "T4"
    },
    "kernelspec": {
      "display_name": "Python 3",
      "name": "python3"
    },
    "language_info": {
      "name": "python"
    },
    "accelerator": "GPU"
  },
  "nbformat": 4,
  "nbformat_minor": 0
}